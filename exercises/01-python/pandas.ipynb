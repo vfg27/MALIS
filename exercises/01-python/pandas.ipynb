{
 "cells": [
  {
   "cell_type": "markdown",
   "id": "09a13b3d-86ac-482c-b44b-76b78a3470cb",
   "metadata": {},
   "source": [
    "# A Quick Introduction to pandas\n",
    "\n",
    "In this tutorial, you will get familiar with the minimal set of features from pandas that will render you operational for this course. If you want to dig deeper into the library, you can follow any of these tutorials:\n",
    "\n",
    "1. [W3School Pandas Tutorial](https://www.w3schools.com/python/pandas/)\n",
    "2. [Pandas Kaggle Course](https://www.kaggle.com/learn/pandas)\n",
    "\n",
    "## 1. Brief Introduction\n",
    "[pandas](https://pandas.pydata.org/) is a Python library used for working with data sets. It has functions for analyzing, cleaning, exploring, and manipulating data in a fast, powerful and flexible way. It is built on top of NumPy. The name \"pandas\" is s short version of \"Python for Data Analysis\".\n",
    "\n",
    "### Features\n",
    "Some of the main features of pandas include:\n",
    "* Easy handling of missing data (represented as NaN) in floating point as well as non-floating point data\n",
    "* Size mutability: columns can be inserted and deleted from DataFrame and higher dimensional objects\n",
    "* Automatic and explicit data alignment: objects can be explicitly aligned to a set of labels, or the user can simply ignore the labels and let Series, DataFrame, etc. automatically align the data for you in computations\n",
    "* Powerful, flexible group by functionality to perform split-apply-combine operations on data sets, for both aggregating and transforming data\n",
    "* Make it easy to convert ragged, differently-indexed data in other Python and NumPy data structures into DataFrame objects\n",
    "* Intelligent label-based slicing, fancy indexing, and subsetting of large data sets\n",
    "* Intuitive merging and joining datasets\n",
    "* Flexible reshaping and pivoting of datasets\n",
    "* Hierarchical labeling of axes (possible to have multiple labels per tick)\n",
    "* Robust IO tools for loading data from flat files (CSV and delimited), Excel files, databases, and saving/loading data from the ultrafast HDF5 format\n",
    "* Time series-specific functionality: date range generation and frequency conversion, moving window statistics, moving window linear regressions, date shifting and lagging, etc.\n",
    "\n",
    "\n",
    "## 2. The Basics\n",
    "As with other libraries, the first step to work with pandas is to import it"
   ]
  },
  {
   "cell_type": "code",
   "execution_count": null,
   "id": "7baec893-642b-4618-9332-64752d121b77",
   "metadata": {},
   "outputs": [],
   "source": [
    "import pandas as pd"
   ]
  },
  {
   "cell_type": "markdown",
   "id": "9a187187-da65-4dd3-bdb9-23cdec6ec095",
   "metadata": {},
   "source": [
    "pandas has two primary structures: Series and DataFrame. \n",
    "\n",
    "### DataFrame\n",
    "A Pandas DataFrame is a 2 dimensional data structure, like a 2 dimensional array, or a table with rows and columns. Each column of a DataFrame can be of a different type such as integers, floats, booleans, datetime or even object, which can hold any Python object. \n",
    "\n",
    "We will now cover the basic operations that can be done with a DataFrame\n",
    "\n",
    "#### Creating a DataFrame\n",
    "pandas provides multiple ways to create a DataFrame. \n",
    "\n",
    "**Examples:**\n",
    "1. A DataFrame with only numerical values"
   ]
  },
  {
   "cell_type": "code",
   "execution_count": null,
   "id": "9b3cc1ee-b2a5-4da7-88f1-f93b3dc3c97b",
   "metadata": {},
   "outputs": [],
   "source": [
    "import numpy as np\n",
    "\n",
    "data = np.array([[21, 184], [19, 168], [36, 178], [34, 175], [63, 159], [25, 165]]) #Data to be fed into the DataFrame is organized into a numpy array\n",
    "\n",
    "# df is an abbrevation of DataFrame\n",
    "df = pd.DataFrame(data=data, columns=[\"age\", \"height (cm)\"])\n",
    "\n",
    "# Show DataFrame\n",
    "df"
   ]
  },
  {
   "cell_type": "markdown",
   "id": "d3f5dd34-0997-4313-941c-d47cf1d7b13b",
   "metadata": {},
   "source": [
    "2. A DataFrame with columns of different types"
   ]
  },
  {
   "cell_type": "code",
   "execution_count": null,
   "id": "bd2b6956-b7b7-4fa8-8afa-5d2c0cb4a09e",
   "metadata": {},
   "outputs": [],
   "source": [
    "data = {\n",
    "  \"age\": [21, 19, 36],\n",
    "  \"height (cm)\": [184, 168, 178], \n",
    "  \"name\": ['John', 'Liz', 'Ben'] \n",
    "} #We use a dictionary\n",
    "\n",
    "#load data into a DataFrame object:\n",
    "df = pd.DataFrame(data)\n",
    "\n",
    "df"
   ]
  },
  {
   "cell_type": "markdown",
   "id": "e7c9c06e-29ed-4676-95a5-d300137c679b",
   "metadata": {},
   "source": [
    "Note that at the left most side of the table, there appears a list of numbers. This is because the DataFrame object creates this list to index the table. Alternatively, one can specify which column should be used as the table index."
   ]
  },
  {
   "cell_type": "code",
   "execution_count": null,
   "id": "db8ea036-eff5-4b7d-9a79-aa67741efdc9",
   "metadata": {},
   "outputs": [],
   "source": [
    "df.set_index('name', inplace = True)\n",
    "df"
   ]
  },
  {
   "cell_type": "markdown",
   "id": "0acdc452-6197-4fd7-8d74-60b4a0cba3ff",
   "metadata": {},
   "source": [
    "In such case, the column of numbers dissapears and the provided column now acts as the index. \n",
    "\n",
    "Notice also, the use of the argument `inplace = True`. Many pandas operations do not modify the object. Instead, they generate a copy of it with the requested modifications. By using `inplace = True`, we make sure that our DataFrame object stored in `df` is directly modified. \n",
    "\n",
    "One can also reset the index:"
   ]
  },
  {
   "cell_type": "code",
   "execution_count": null,
   "id": "e3161aa1-882c-4bf8-8fda-179244213d12",
   "metadata": {},
   "outputs": [],
   "source": [
    "df.reset_index(inplace = True)\n",
    "df"
   ]
  },
  {
   "cell_type": "markdown",
   "id": "0c19b652-5f23-47db-b9d3-3466d097ea44",
   "metadata": {},
   "source": [
    "#### Accessing data\n",
    "Accessing a single object returns a Series, which is a one-dimensional ndarray with axis labels."
   ]
  },
  {
   "cell_type": "code",
   "execution_count": null,
   "id": "d2c59540-6e71-4573-a66f-1903405895b8",
   "metadata": {},
   "outputs": [],
   "source": [
    "df[\"age\"]"
   ]
  },
  {
   "cell_type": "code",
   "execution_count": null,
   "id": "d50392ed-fe0f-4b76-9dbf-68129761a9d8",
   "metadata": {},
   "outputs": [],
   "source": [
    "df[\"name\"]"
   ]
  },
  {
   "cell_type": "markdown",
   "id": "43dd0ae4-8747-4b82-8077-59be7b29abd5",
   "metadata": {},
   "source": [
    "Pandas use the loc attribute to return one or more specified row(s)"
   ]
  },
  {
   "cell_type": "code",
   "execution_count": null,
   "id": "be025f25-7061-4cf9-afb3-477e4317bde1",
   "metadata": {},
   "outputs": [],
   "source": [
    "#Return row 0\n",
    "df.loc[0]"
   ]
  },
  {
   "cell_type": "code",
   "execution_count": null,
   "id": "8cad37e9-4927-43ec-bd42-0186f7f1b89f",
   "metadata": {},
   "outputs": [],
   "source": [
    "#Return row 0 and 1\n",
    "#use a list of indexes:\n",
    "df.loc[[0, 1]]"
   ]
  },
  {
   "cell_type": "markdown",
   "id": "0c1acc73-ee92-4a51-9d78-d0c40bce0f55",
   "metadata": {},
   "source": [
    "Where there is an index defined, one can directly use the index to access a row:"
   ]
  },
  {
   "cell_type": "code",
   "execution_count": null,
   "id": "2ba4f1a6-a356-46e2-b62d-a5bf95fc6125",
   "metadata": {},
   "outputs": [],
   "source": [
    "df.set_index(\"name\", inplace = True) #Let's put the index back\n",
    "\n",
    "df.loc[\"John\"] #Get me John"
   ]
  },
  {
   "cell_type": "code",
   "execution_count": null,
   "id": "a596bd7e-e7a1-40e4-9ff0-c3b4c439d24f",
   "metadata": {},
   "outputs": [],
   "source": [
    "df.reset_index(inplace = True)"
   ]
  },
  {
   "cell_type": "markdown",
   "id": "2cd4939d-3263-4ff2-97b1-83022616b1d4",
   "metadata": {},
   "source": [
    "#### Adding columns"
   ]
  },
  {
   "cell_type": "code",
   "execution_count": null,
   "id": "5d7a6060-728e-4a8b-93b4-40b34a149796",
   "metadata": {},
   "outputs": [],
   "source": [
    "df[\"sex\"] = [\"M\", \"F\", \"M\"]\n",
    "df[\"height (m)\"] = df[\"height (cm)\"] / 100\n",
    "\n",
    "df"
   ]
  },
  {
   "cell_type": "markdown",
   "id": "05169bbf-57fe-4992-8c24-21484f13940b",
   "metadata": {},
   "source": [
    "#### Removing columns"
   ]
  },
  {
   "cell_type": "code",
   "execution_count": null,
   "id": "b7b8b012-8d4b-45e2-b90d-a06ee246bb1d",
   "metadata": {},
   "outputs": [],
   "source": [
    "df = df.drop(columns=\"height (m)\")\n",
    "df"
   ]
  },
  {
   "cell_type": "code",
   "execution_count": null,
   "id": "b90adc1b-5ad4-48f4-83c0-ad620cf4f231",
   "metadata": {},
   "outputs": [],
   "source": [
    "#### Adding Rows\n",
    "df1= pd.DataFrame([[34, 175, 'F', 'Anna']],\n",
    "                   columns=['age', 'height (cm)', 'sex', 'name'])\n",
    "df = pd.concat([df, df1], ignore_index=True)\n",
    "df"
   ]
  },
  {
   "cell_type": "markdown",
   "id": "aa8c3429-3403-4fd1-9791-0d10bb68311c",
   "metadata": {},
   "source": [
    "#### Boolean indexing\n",
    "It is possible to select certain rows of a DataFrame by using Boolean expressions:"
   ]
  },
  {
   "cell_type": "code",
   "execution_count": null,
   "id": "8da6db7c-a52a-48ba-acbc-90f357aa0198",
   "metadata": {},
   "outputs": [],
   "source": [
    "# In the df DataFrame, show me only the rows in which the \"sex\" column is \"F\"\n",
    "df[df[\"sex\"] == \"F\"]"
   ]
  },
  {
   "cell_type": "code",
   "execution_count": null,
   "id": "d9a55989-86d5-4b75-99b6-af553625aa6c",
   "metadata": {},
   "outputs": [],
   "source": [
    "# In the df DataFrame, show me only the rows in which the \"sex\" column is \"M\" AND (&) the \"age\" is below 30\n",
    "df[(df[\"sex\"] == \"M\") & (df[\"age\"] < 30)]"
   ]
  },
  {
   "cell_type": "markdown",
   "id": "554a4c75-f897-45ef-803a-ec37898eebd5",
   "metadata": {},
   "source": [
    "#### Sorting"
   ]
  },
  {
   "cell_type": "code",
   "execution_count": null,
   "id": "3987e2f2-3cd0-44cb-ad97-130bd4ce9354",
   "metadata": {},
   "outputs": [],
   "source": [
    "# Sort values by age in ascending order\n",
    "df.sort_values(by=\"age\")"
   ]
  },
  {
   "cell_type": "code",
   "execution_count": null,
   "id": "92c6b140-f148-467f-9171-66ff4078a734",
   "metadata": {},
   "outputs": [],
   "source": [
    "# Sort values first by height, then by age in descending order\n",
    "df.sort_values(by=[\"height (cm)\", \"age\"], ascending=False)"
   ]
  },
  {
   "cell_type": "code",
   "execution_count": null,
   "id": "6d201633-efd4-49a8-952e-b34a9ff60267",
   "metadata": {},
   "outputs": [],
   "source": [
    "# Sort values first by sex, then by age and last by height in descending order\n",
    "df.sort_values(by=[\"sex\", \"age\", \"height (cm)\"], ascending=False)"
   ]
  },
  {
   "cell_type": "markdown",
   "id": "ae81619c-d3bc-4ba4-a510-c22a5bbefa04",
   "metadata": {},
   "source": [
    "## 3. I/O Operations\n",
    "Pandas supports reading from and writing to many data formats, such as CSV, JSON, Pickle, Excel, and more.\n",
    "\n",
    "Most often the data you will use during the course will be stored in a file, typically a CSV file. CSV files are text files with information separated by commas, saved with the extension .csv. They allow large amounts of detailed data to be transferred 'machine-to-machine', with little or no reformatting by the user.\n",
    "\n",
    "In this tutorial, **we will focus only on the reading and writing of CSV files**. Please refer to the pandas documentation if you want to know more about how to deal with other types of files.\n",
    "\n",
    "### Reading \n"
   ]
  },
  {
   "cell_type": "markdown",
   "id": "b1114686-6d53-41b6-a9e9-e5b4ffb28fd9",
   "metadata": {},
   "source": [
    "Now we will load a dataset from [Kaggle](https://www.kaggle.com/datasets/ruchi798/data-science-job-salaries?select=ds_salaries.csv) with information about data science job salaries.\n",
    "\n",
    "The dataset contains the following columns:\n",
    "* work_year - The year the salary was paid.\n",
    "* experience_level - The experience level in the job during the year with the following possible values: EN Entry-level / Junior MI Mid-level / Intermediate SE Senior-level / Expert EX Executive-level / Director\n",
    "* employment_type - The type of employement for the role: PT Part-time FT Full-time CT Contract FL Freelance\n",
    "* job_title - The role worked in during the year.\n",
    "* salary - The total gross salary amount paid.\n",
    "* salary_currency - The currency of the salary paid as an ISO 4217 currency code.\n",
    "* salaryinusd - The salary in USD (FX rate divided by avg. USD rate for the respective year via fxdata.foorilla.com).\n",
    "* employee_residence - Employee's primary country of residence during the work year as an ISO 3166 country code.\n",
    "* remote_ratio - The overall amount of work done remotely, possible values are as follows: 0 No remote work (less than 20%) 50 Partially remote 100 Fully remote (more than 80%)\n",
    "* company_location - The country of the employer's main office or contracting branch as an ISO 3166 country code.\n",
    "* company_size  - The average number of people that worked for the company during the year: S less than 50 employees (small) M 50 to 250 employees (medium) L more than 250 employees (large)"
   ]
  },
  {
   "cell_type": "code",
   "execution_count": null,
   "id": "0ba5ff81-ca38-47b7-8be1-2657120c7e83",
   "metadata": {},
   "outputs": [],
   "source": [
    "df = pd.read_csv('data/ds_salaries.csv')\n",
    "\n",
    "#We can use the function head to see the first 5 elements of the DataFrame. \n",
    "df.head()"
   ]
  },
  {
   "cell_type": "code",
   "execution_count": null,
   "id": "d7478a0f-76f3-4400-8ee7-ad556058848d",
   "metadata": {},
   "outputs": [],
   "source": [
    "# To change the default value of 5, one just needs to specify a new value as argument\n",
    "df.head(20)"
   ]
  },
  {
   "cell_type": "code",
   "execution_count": null,
   "id": "ed446e1e-7b6a-4c24-a870-147d9e436f7c",
   "metadata": {},
   "outputs": [],
   "source": [
    "#We can also see the last elements of the DataFrame using tail\n",
    "df.tail()"
   ]
  },
  {
   "cell_type": "markdown",
   "id": "3dfdc68f-49b7-4aaa-bb57-3b1185e6af57",
   "metadata": {},
   "source": [
    "### Exercise 1\n",
    "Create a new column where the salary is expressed in bitcoins. Denote the column salary_in_btc.\n",
    "\n",
    "Conversion Rule: 1 USD = 0.000053 BTC"
   ]
  },
  {
   "cell_type": "code",
   "execution_count": null,
   "id": "070e3cac-5bfa-49b4-96dd-d8cad9e926ea",
   "metadata": {},
   "outputs": [],
   "source": [
    "#Your code here\n",
    "\n",
    "df.head()"
   ]
  },
  {
   "cell_type": "markdown",
   "id": "bd3c3f0d-4f79-4424-82dc-7a374cf7fa24",
   "metadata": {},
   "source": [
    "### Exercise 2\n",
    "Find all the jobs that earned less than 20000 USD in 2022"
   ]
  },
  {
   "cell_type": "code",
   "execution_count": null,
   "id": "69503401-ff73-4398-bf4c-910277d4895a",
   "metadata": {},
   "outputs": [],
   "source": [
    "#Your code here"
   ]
  },
  {
   "cell_type": "markdown",
   "id": "0e594895-6902-42fb-b044-552545a26c16",
   "metadata": {},
   "source": [
    "### Writing\n",
    "When writing into disc a CSV file, one needs to be careful specifying if the index should be written as well. This is particularly important when the DataFrame is not using any of its columns as an index (as in the example above)."
   ]
  },
  {
   "cell_type": "code",
   "execution_count": null,
   "id": "7efa4c1c-d4b9-4c38-8800-1ffdf7cbfa48",
   "metadata": {},
   "outputs": [],
   "source": [
    "df.to_csv(\"data/ds_salaries_with_bitcoin.csv\", index=False) #Notice that index is set to false to avoid that the index used internally by the DataFrame is wirtten to disc."
   ]
  },
  {
   "cell_type": "markdown",
   "id": "66106bb5-aae5-473a-8c37-acbb1be29cde",
   "metadata": {},
   "source": [
    "## 4. Exploratory Data Analysis with pandas\n",
    "One of the first steps of every machine learning project is to explore the data that you will be working with. It helps us understand how our data looks like, and how it can be processed and manipulated into something meaningful. pandas offers a large set of powerful tools for the task. \n",
    "\n",
    "This section summarizes some of these functions."
   ]
  },
  {
   "cell_type": "markdown",
   "id": "3dc3e6df-af7e-4e4a-abd2-e8895639f4c5",
   "metadata": {},
   "source": [
    "### Data Preview\n",
    "Sometimes DataFrames are too big and cannot be fully displayed. As we previously saw, functions like `head()` and `tail()` can provide a quick view of the first and last elements. In addition to these, `sample` can display a random set of elements. In summary:\n",
    "\n",
    "* `head(n)` returns the first n rows\n",
    "* `tail(n)` returns the last n rows\n",
    "* `sample(n)` returns a random sample  of size n of the rows \n",
    "* `sample(frac=m)` returns a fraction m of the total number of rows"
   ]
  },
  {
   "cell_type": "code",
   "execution_count": null,
   "id": "a6ebc947-0af8-4c95-ba8c-2b0af365c665",
   "metadata": {},
   "outputs": [],
   "source": [
    "df.sample(5)"
   ]
  },
  {
   "cell_type": "code",
   "execution_count": null,
   "id": "2417786f-b53c-4570-b714-98efdf224053",
   "metadata": {},
   "outputs": [],
   "source": [
    "df.sample(frac=0.1)"
   ]
  },
  {
   "cell_type": "markdown",
   "id": "0f4cd3a5-f381-492d-a819-339cceb55bef",
   "metadata": {},
   "source": [
    "### DataFrame information and Statistics\n",
    "* `shape` as in NumPy provides information about the number of rows and columns of the DataFrame\n",
    "* `info()` prints a concise summary of the DataFrame. It gives, for each column, its type and the number of columns that are non-null (not NaN). It also provides the memory usage of the DataFrame.\n",
    "* `describe()` generates descriptive statistics, such as the mean, standard deviation, mean, max and quartiles for numerical columns (default). By using the argument `include=\"all\"` it also provides statistics for non-numerical columns (e.g top value, frequency or count)."
   ]
  },
  {
   "cell_type": "code",
   "execution_count": null,
   "id": "ea3a5e45-cc04-41f0-b120-02c3e10b8ee8",
   "metadata": {},
   "outputs": [],
   "source": [
    "print(f'DataFrame shape: {df.shape}\\n')\n",
    "print(f'General info:')\n",
    "\n",
    "df.info()"
   ]
  },
  {
   "cell_type": "code",
   "execution_count": null,
   "id": "199e1a91-329f-42e0-a14d-2b8a979c86ef",
   "metadata": {},
   "outputs": [],
   "source": [
    "df.describe()"
   ]
  },
  {
   "cell_type": "code",
   "execution_count": null,
   "id": "9f7f139d-6bdc-47f2-921c-72010453b7a5",
   "metadata": {},
   "outputs": [],
   "source": [
    "df.describe(include=\"all\")"
   ]
  },
  {
   "cell_type": "markdown",
   "id": "9c7cfc19-40da-4041-90e6-ebe666cb86fd",
   "metadata": {},
   "source": [
    "### Plotting\n",
    "Plotting is a very powerful tool to perform data inspection. pandas offer plotting functionality with the .plot functions, which wrap-around matplotlib.pyplot's plot().\n",
    "\n",
    "In this tutorial, two minimal examples will be presented for illustration purposes. More info about plotting with pandas can be found at: https://pandas.pydata.org/pandas-docs/stable/user_guide/visualization.html\n"
   ]
  },
  {
   "cell_type": "code",
   "execution_count": null,
   "id": "8a099f42-95c4-48d2-b687-9cc60f9daf82",
   "metadata": {},
   "outputs": [],
   "source": [
    "#plots the salary (in USD) as a function of the experience level\n",
    "df.plot.scatter(x=\"experience_level\", y=\"salary_in_usd\", alpha=0.5)"
   ]
  },
  {
   "cell_type": "code",
   "execution_count": null,
   "id": "97bc8e2f-0061-42db-8485-517a9616b804",
   "metadata": {},
   "outputs": [],
   "source": [
    "#Histogram of the salary (USD) using 20 bins\n",
    "df[\"salary_in_usd\"].hist(bins=20)"
   ]
  },
  {
   "cell_type": "markdown",
   "id": "80bc6a40-8390-4a66-a0b2-868a403545f7",
   "metadata": {},
   "source": [
    "## 5. Other Resources\n",
    "\n",
    "* [Pandas Cheatsheet](https://pandas.pydata.org/Pandas_Cheat_Sheet.pdf)\n",
    "* [Pandas User Guide](https://pandas.pydata.org/pandas-docs/stable/user_guide/index.html)\n",
    "* [API Reference](https://pandas.pydata.org/pandas-docs/stable/reference/index.html)\n",
    "* [W3School Pandas Tutorial](https://www.w3schools.com/python/pandas/)\n",
    "* [Pandas Kaggle Course](https://www.kaggle.com/learn/pandas)"
   ]
  },
  {
   "cell_type": "code",
   "execution_count": null,
   "id": "8ef5f18c-759b-4338-b5b4-5ab168035844",
   "metadata": {},
   "outputs": [],
   "source": []
  }
 ],
 "metadata": {
  "kernelspec": {
   "display_name": "Python 3 (ipykernel)",
   "language": "python",
   "name": "python3"
  },
  "language_info": {
   "codemirror_mode": {
    "name": "ipython",
    "version": 3
   },
   "file_extension": ".py",
   "mimetype": "text/x-python",
   "name": "python",
   "nbconvert_exporter": "python",
   "pygments_lexer": "ipython3",
   "version": "3.9.12"
  }
 },
 "nbformat": 4,
 "nbformat_minor": 5
}
