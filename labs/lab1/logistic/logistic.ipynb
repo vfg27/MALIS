{
 "cells": [
  {
   "cell_type": "markdown",
   "id": "5c7cff21-a26f-4b2e-bc5a-9533cce8abe3",
   "metadata": {},
   "source": [
    "# Part 3: Logistic Regression\n",
    "\n",
    "In this part, we will be working with the wine dataset. This dataset contains 11 chemical features of various wines, along with experts' rating of that wine's quality. The quality scale technically runs from 1-10, but only 3-9 are actually used in the data.\n",
    "\n",
    "**Reference**\n",
    "P. Cortez, A. Cerdeira, F. Almeida, T. Matos and J. Reis. Modeling wine preferences by data mining from physicochemical properties.\n",
    "In Decision Support Systems, Elsevier, 47(4):547-553, 2009. \n",
    "\n",
    "**Your goal is to fit a model able to classify a wine as good or bad quality.**"
   ]
  },
  {
   "cell_type": "markdown",
   "id": "eeb2603b-acc7-4cd9-8ddd-8ae7e7743195",
   "metadata": {},
   "source": [
    "## The DataSet\n",
    "The dataset contains the following features: \n",
    "1. fixed acidity\n",
    "2. volatile acidity\n",
    "3. citric acid\n",
    "4. residual sugar\n",
    "5. chlorides\n",
    "6. free sulfur dioxide\n",
    "7. total sulfur dioxide\n",
    "8. density\n",
    "9. pH\n",
    "10. sulphates\n",
    "11. alcohol\n",
    "\n",
    "The 12th column of the data file corresponds to the output variable, which represents the quality of the wine (score between 0 and 10)"
   ]
  },
  {
   "cell_type": "code",
   "execution_count": null,
   "id": "c4d959db-3d9c-4c5b-b33f-cab390ba5150",
   "metadata": {},
   "outputs": [],
   "source": [
    "import pandas as pd\n",
    "import numpy as np\n",
    "from sklearn.model_selection import train_test_split"
   ]
  },
  {
   "cell_type": "code",
   "execution_count": null,
   "id": "dea63eb6-aac6-425b-85a6-784bcaffa7c1",
   "metadata": {},
   "outputs": [],
   "source": [
    "wine_df = pd.read_csv('data/winequality-red.csv') #Reads a CSV file"
   ]
  },
  {
   "cell_type": "markdown",
   "id": "d670a44a-3e8f-4237-94c8-4be7fb4fe508",
   "metadata": {},
   "source": [
    "## Exercise 1: Exploring the data\n",
    "\n",
    "### Task 1.1: Using pandas for data exploration\n",
    "As you did in linear regression, use the methods `head(params)` and `describe(params)` to explore the dataset."
   ]
  },
  {
   "cell_type": "code",
   "execution_count": null,
   "id": "0de1e874-4900-46ff-ad72-00bdf7856d50",
   "metadata": {},
   "outputs": [],
   "source": [
    "#Your code here\n"
   ]
  },
  {
   "cell_type": "code",
   "execution_count": null,
   "id": "f858fe7e-7f1b-41e5-9def-af711d1d5d71",
   "metadata": {},
   "outputs": [],
   "source": [
    "#Your code here\n"
   ]
  },
  {
   "cell_type": "markdown",
   "id": "63ac422c-a68e-4348-8a8b-a5c66abed471",
   "metadata": {},
   "source": [
    "### Task 1.2: Adding a good/bad label\n",
    "The current database does not have a field indicating if a wine is good or bad. We will use the label quality to categorize wines into good or bad according to the following rule: \n",
    "    - A wine is considered good if its quality is equal or above 6.5\n",
    "    \n",
    "Create a new field in the DataFrame, denoted good, that reflects this rule.  "
   ]
  },
  {
   "cell_type": "code",
   "execution_count": null,
   "id": "106c4c47-09c5-453e-9b2c-664dd4475cea",
   "metadata": {},
   "outputs": [],
   "source": [
    "wine_df['good'] = #Your code here\n",
    "\n",
    "wine_df.good = wine_df.good.replace({True: 1, False: 0})\n",
    "wine_df.head()"
   ]
  },
  {
   "cell_type": "markdown",
   "id": "f802b588-227a-48c1-8753-e07a8a6f164c",
   "metadata": {},
   "source": [
    "## Exercise 2: Data splits and further exploration\n",
    "We will start first by splitting the data in two. For this exercise, we will only use a training and test set. We will omit the use of the validation set as we will train a single model and then check how well it generalizes."
   ]
  },
  {
   "cell_type": "code",
   "execution_count": null,
   "id": "dcdf944f-3591-4315-91e3-7bbd2078059e",
   "metadata": {},
   "outputs": [],
   "source": [
    "wines_train, wines_test = train_test_split(wine_df, test_size=0.2, random_state=8, stratify=wine_df['good'])\n",
    "\n",
    "X_train = wines_train.drop(['quality','good'], axis=1)\n",
    "y_train = wines_train['good']\n",
    "\n",
    "X_test = wines_test.drop(['quality','good'], axis=1)\n",
    "y_test = wines_test['good']\n",
    "\n",
    "X_train.head(15)"
   ]
  },
  {
   "cell_type": "markdown",
   "id": "957ad20b-4053-4bbc-a42b-f480502d904f",
   "metadata": {},
   "source": [
    "### Question 2.1: train_test_split\n",
    "Explain what is the role of each of the parameters used in the following line of code:\n",
    "\n",
    "`train_test_split(wine_df, test_size=0.2, random_state=8, stratify=wine_df['good'])`"
   ]
  },
  {
   "cell_type": "markdown",
   "id": "2741cfe6-3f30-4fe6-b013-6d41c1d75a57",
   "metadata": {},
   "source": [
    "Your answer here: "
   ]
  },
  {
   "cell_type": "markdown",
   "id": "c40aaea6-d7f7-44f7-8e4a-6d7fd51223e9",
   "metadata": {},
   "source": [
    "The function scatter_matrix from pandas allows to visually explore the data. This can be useful to identify potential correlations across the input features (which are undesirable). "
   ]
  },
  {
   "cell_type": "code",
   "execution_count": null,
   "id": "386679f0-d3bb-4081-b852-f74f629ee6b6",
   "metadata": {},
   "outputs": [],
   "source": [
    "from pandas.plotting import scatter_matrix\n",
    "wines_train = wines_train.drop(['quality'], axis=1)\n",
    "scatter_matrix(wines_train, figsize=(30,20))"
   ]
  },
  {
   "cell_type": "markdown",
   "id": "120fa84e-392b-44c5-925d-8b54cab370f1",
   "metadata": {},
   "source": [
    "### Question 2.2: Scatter matrix Analysis\n",
    "Based on the observed plots, do you consider there are any correlations among features? "
   ]
  },
  {
   "cell_type": "markdown",
   "id": "083c84b6-1429-4b89-bbaf-32e6b0db7cb0",
   "metadata": {},
   "source": [
    "Your answer here:"
   ]
  },
  {
   "cell_type": "markdown",
   "id": "b7edbc27-9db3-43ad-bcea-3d3a056c266f",
   "metadata": {},
   "source": [
    "## Exercise 3: Training and Testing\n",
    "We will  now proceed to train our logistic regression model."
   ]
  },
  {
   "cell_type": "code",
   "execution_count": null,
   "id": "c7e276c6-b222-4f9f-a539-9ab7ad8958db",
   "metadata": {},
   "outputs": [],
   "source": [
    "from sklearn.linear_model import LogisticRegression\n",
    "logistic_model = LogisticRegression(C=1000000, solver='newton-cg', max_iter=250).fit(X_train,y_train)\n",
    "print(f'Logistic regression model coefficients:{logistic_model.coef_}\\n')"
   ]
  },
  {
   "cell_type": "markdown",
   "id": "0170bdfc-acc2-4b44-b06e-610f880907e9",
   "metadata": {},
   "source": [
    "### Question set 3.1: Analysis of the coefficients\n",
    "Based on the obtained coefficients:\n",
    "1. Which features seem to have an important contribution towards considering a wine as good?\n",
    "2. as bad?"
   ]
  },
  {
   "cell_type": "markdown",
   "id": "23c88114-91ed-4070-9bfb-161ec4b92205",
   "metadata": {},
   "source": [
    "Your answer here:"
   ]
  },
  {
   "cell_type": "code",
   "execution_count": null,
   "id": "c20141f8-977c-4a00-903d-fec004d2b056",
   "metadata": {},
   "outputs": [],
   "source": [
    "print(f'Accuracy:{logistic_model.score(X_test,y_test)}\\n')"
   ]
  },
  {
   "cell_type": "markdown",
   "id": "764a9b83-7702-4722-8240-38e31c8063cd",
   "metadata": {},
   "source": [
    "### Question 3.2: Accuracy and generalizability\n",
    "What accuracy did you obtain? Do you consider it good or bad? "
   ]
  },
  {
   "cell_type": "markdown",
   "id": "7c3b314e-c26d-4fc2-8a46-bc9ab6fea4eb",
   "metadata": {},
   "source": [
    "Your answer here:"
   ]
  },
  {
   "cell_type": "markdown",
   "id": "874dd809-db59-40e2-9888-b96cf04d88dd",
   "metadata": {},
   "source": [
    "### Task 3.1 Comparison against a dummy model\n",
    "Suppose now that you build a dummy model that classifies all wines as bad. "
   ]
  },
  {
   "cell_type": "code",
   "execution_count": null,
   "id": "bbe34a51-3026-45d9-a158-29ad7994dda5",
   "metadata": {},
   "outputs": [],
   "source": [
    "y_pred = np.zeros(len(y_test))"
   ]
  },
  {
   "cell_type": "markdown",
   "id": "5c282f69-086e-498c-935c-b6ccb461e91c",
   "metadata": {},
   "source": [
    "Estimate this model's accuracy:"
   ]
  },
  {
   "cell_type": "code",
   "execution_count": null,
   "id": "cd219ec7-500f-4985-8590-69d1f0c169e7",
   "metadata": {},
   "outputs": [],
   "source": [
    "#Your code here\n",
    "\n",
    "#Your code ends here\n",
    "\n",
    "print(f'Dummy model accuracy:{accuracy}\\n')"
   ]
  },
  {
   "cell_type": "markdown",
   "id": "192837f1-0d09-4adc-8282-dbdd9f5becfd",
   "metadata": {},
   "source": [
    "Given your results, has your original opinion about the trained model changed?"
   ]
  },
  {
   "cell_type": "markdown",
   "id": "095a797f-127e-4c16-b5ac-30dd8f5ada4d",
   "metadata": {},
   "source": [
    "Your answer here:"
   ]
  }
 ],
 "metadata": {
  "kernelspec": {
   "display_name": "Python 3 (ipykernel)",
   "language": "python",
   "name": "python3"
  },
  "language_info": {
   "codemirror_mode": {
    "name": "ipython",
    "version": 3
   },
   "file_extension": ".py",
   "mimetype": "text/x-python",
   "name": "python",
   "nbconvert_exporter": "python",
   "pygments_lexer": "ipython3",
   "version": "3.8.13"
  }
 },
 "nbformat": 4,
 "nbformat_minor": 5
}
